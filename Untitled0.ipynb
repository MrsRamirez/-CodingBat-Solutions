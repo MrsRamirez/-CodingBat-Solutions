{
  "nbformat": 4,
  "nbformat_minor": 0,
  "metadata": {
    "colab": {
      "provenance": [],
      "authorship_tag": "ABX9TyN3fE5GTkCIXYbj8d00BBDN",
      "include_colab_link": true
    },
    "kernelspec": {
      "name": "python3",
      "display_name": "Python 3"
    },
    "language_info": {
      "name": "python"
    }
  },
  "cells": [
    {
      "cell_type": "markdown",
      "metadata": {
        "id": "view-in-github",
        "colab_type": "text"
      },
      "source": [
        "<a href=\"https://colab.research.google.com/github/MrsRamirez/-CodingBat-Solutions/blob/main/Untitled0.ipynb\" target=\"_parent\"><img src=\"https://colab.research.google.com/assets/colab-badge.svg\" alt=\"Open In Colab\"/></a>"
      ]
    },
    {
      "cell_type": "code",
      "execution_count": null,
      "metadata": {
        "id": "lWIksgy5zg-m"
      },
      "outputs": [],
      "source": []
    },
    {
      "cell_type": "code",
      "source": [
        "def v1():\n",
        "    password = \"simonsnyc\"\n",
        "    userInput = input(\"Enter Passcode: \")\n",
        "\n",
        "    while password != userInput :\n",
        "        print(\"Wrong Password!\")\n",
        "        userInput = input(\"Enter Passcode: \")\n",
        "\n",
        "    print(\"Correct! You may enter...\")\n",
        "\n",
        "#v1()\n",
        "def v2():\n",
        "    password = \"simonsnyc\"\n",
        "    userInput = input(\"Enter Passcode: \")\n",
        "    i = 1\n",
        "    while password != userInput and i < 3:\n",
        "        print(\"Wrong Password!\")\n",
        "        i+=1\n",
        "        userInput = input(\"Enter Passcode: \")\n",
        "    if password == userInput:\n",
        "        print(\"Correct! You may enter...\")\n",
        "    else:\n",
        "        print(\"you out of luck!\")\n",
        "\n",
        "#v2()\n",
        "\n",
        "def main():\n",
        "    choice = int(input(\"which version 1 or 2: \"))\n",
        "    if choice == 1:\n",
        "        v1()\n",
        "    elif choice == 2:\n",
        "        v2()\n",
        "    else:\n",
        "        print(\"invalid choice\")\n",
        "\n",
        "main()\n",
        "\n",
        "\n",
        ""
      ],
      "metadata": {
        "colab": {
          "base_uri": "https://localhost:8080/"
        },
        "id": "dNSGdkknztUY",
        "outputId": "eca2ec97-3815-457a-9d19-0c051c1dcda4"
      },
      "execution_count": 2,
      "outputs": [
        {
          "output_type": "stream",
          "name": "stdout",
          "text": [
            "which version 1 or 2: 1\n",
            "Enter Passcode: 123\n",
            "Wrong Password!\n",
            "Enter Passcode: 12\n",
            "Wrong Password!\n",
            "Enter Passcode: 12\n",
            "Wrong Password!\n",
            "Enter Passcode: 12\n",
            "Wrong Password!\n",
            "Enter Passcode: simonsnyc\n",
            "Correct! You may enter...\n"
          ]
        }
      ]
    }
  ]
}